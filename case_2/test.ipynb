{
 "cells": [
  {
   "cell_type": "code",
   "execution_count": 45,
   "metadata": {},
   "outputs": [],
   "source": [
    "import matplotlib.pyplot as plt\n",
    "import click\n",
    "import numpy as np\n",
    "import librosa.display\n",
    "from PCA import spectrogram, PCA_transform\n",
    "from scipy import spatial\n",
    "import os\n"
   ]
  },
  {
   "cell_type": "code",
   "execution_count": null,
   "metadata": {},
   "outputs": [
    {
     "name": "stdout",
     "output_type": "stream",
     "text": [
      "0.9996016025543213\n"
     ]
    }
   ],
   "source": [
    "result = 1-spatial.distance.cosine(y1, y2)\n",
    "print(result)\n"
   ]
  },
  {
   "cell_type": "code",
   "execution_count": 56,
   "metadata": {},
   "outputs": [],
   "source": [
    "def get_train_data(train_path):\n",
    "    all_y = {}\n",
    "    for i in os.listdir(train_path):\n",
    "        path = os.path.join(train_path, i)\n",
    "\n",
    "        # transformed the .wav file train by PCA\n",
    "        x, sample_rate = librosa.load(path)\n",
    "        name = path.split('/')[-1]\n",
    "        y = PCA_transform(x, sample_rate)\n",
    "        all_y[name] = y\n",
    "\n",
    "    print('-'*40 + f'\\nNumber of train tones: {all_y.shape[0]}')\n",
    "    print(f'Length of extraction of each train tone: {all_y.shape[1]}\\n'+'-'*40)\n",
    "    return all_y\n",
    "\n",
    "def get_test_data(test_path, cutting_time):\n",
    "    # measure time length in points:\n",
    "    # 11025 -> 0.5s\n",
    "    # 2205  -> 0.1s\n",
    "\n",
    "    x, sample_rate = librosa.load(test_path)\n",
    "\n",
    "    cutting_length = (cutting_time/0.5)*11025 # cutting length\n",
    "    batch_num = int(x.shape[0]//cutting_length) # number of segment\n",
    "\n",
    "    all_y = []\n",
    "    for i in range(batch_num):\n",
    "        x_cut = x[i*cutting_length : (i+1)*cutting_length]\n",
    "        y = PCA_transform(x, sample_rate)\n",
    "        all_y.append(y.tolist()) # insert all PCA extraction in to a list (y)\n",
    "    all_y = np.array(all_y)\n",
    "    return all_y\n",
    "\n"
   ]
  },
  {
   "cell_type": "code",
   "execution_count": null,
   "metadata": {},
   "outputs": [],
   "source": [
    "def compare(train_path, test_path, cutting_time):\n",
    "    '''\n",
    "    Comparison using cosine method. \n",
    "    The output value is in [0, 1]\n",
    "    For example:\n",
    "        0: extremely difference \n",
    "        0.2: difference\n",
    "        0.7: approximately similarity\n",
    "        1: truly similarity\n",
    "    '''\n",
    "    train_data = get_train_data(train_path)\n",
    "    test_data = get_test_data(test_path, cutting_time)\n",
    "\n",
    "    output_name = []\n",
    "    for name in train_data:\n",
    "        value_train = train_data[name]\n",
    "        similality = np.array([1-spatial.distance.cosine(i, value_train) for i in test_data]) # values of similarity in test segments\n",
    "        if True in similality:\n",
    "             output_name.append(name)\n",
    "    return name"
   ]
  },
  {
   "cell_type": "code",
   "execution_count": 52,
   "metadata": {},
   "outputs": [
    {
     "name": "stdout",
     "output_type": "stream",
     "text": [
      "(99225,) 22050\n",
      "(11025,) 22050\n"
     ]
    }
   ],
   "source": [
    "train_path = '/home/ubuntu-pc/Enrico_boss/Similarity-project/wav/train_wav'\n",
    "test_path = '/home/ubuntu-pc/Enrico_boss/Similarity-project/wav/input_wav/440hz_500hz_540hz.wav'"
   ]
  },
  {
   "cell_type": "code",
   "execution_count": 62,
   "metadata": {},
   "outputs": [
    {
     "name": "stdout",
     "output_type": "stream",
     "text": [
      "a\n",
      "b\n"
     ]
    }
   ],
   "source": [
    "a = {'a':1, 'b': 0}\n",
    "for i in a:\n",
    "    print(i)"
   ]
  },
  {
   "cell_type": "code",
   "execution_count": 71,
   "metadata": {},
   "outputs": [
    {
     "name": "stdout",
     "output_type": "stream",
     "text": [
      "True\n"
     ]
    }
   ],
   "source": [
    "a = np.array([1, 2, 3])\n",
    "result = True in (a>1)\n",
    "print(result)"
   ]
  },
  {
   "cell_type": "code",
   "execution_count": null,
   "metadata": {},
   "outputs": [],
   "source": []
  }
 ],
 "metadata": {
  "kernelspec": {
   "display_name": "Python 3.7.6 ('base')",
   "language": "python",
   "name": "python3"
  },
  "language_info": {
   "codemirror_mode": {
    "name": "ipython",
    "version": 3
   },
   "file_extension": ".py",
   "mimetype": "text/x-python",
   "name": "python",
   "nbconvert_exporter": "python",
   "pygments_lexer": "ipython3",
   "version": "3.7.6"
  },
  "orig_nbformat": 4,
  "vscode": {
   "interpreter": {
    "hash": "9e719c6414b9145a045007f0921a6b5f2e3e5b5a6403da857ad00a37a5e96624"
   }
  }
 },
 "nbformat": 4,
 "nbformat_minor": 2
}
