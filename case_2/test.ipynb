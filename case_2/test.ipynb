{
 "cells": [
  {
   "cell_type": "code",
   "execution_count": 45,
   "metadata": {},
   "outputs": [],
   "source": [
    "import matplotlib.pyplot as plt\n",
    "import click\n",
    "import numpy as np\n",
    "import librosa.display\n",
    "from PCA import spectrogram, PCA_transform\n",
    "from scipy import spatial\n",
    "import os\n"
   ]
  },
  {
   "cell_type": "code",
   "execution_count": null,
   "metadata": {},
   "outputs": [
    {
     "name": "stdout",
     "output_type": "stream",
     "text": [
      "0.9996016025543213\n"
     ]
    }
   ],
   "source": [
    "result = 1-spatial.distance.cosine(y1, y2)\n",
    "print(result)\n"
   ]
  },
  {
   "cell_type": "code",
   "execution_count": 54,
   "metadata": {},
   "outputs": [
    {
     "data": {
      "text/plain": [
       "'\\nTransformation:\\n11025 -> 0.5s\\n2205  -> 0.1s\\n'"
      ]
     },
     "execution_count": 54,
     "metadata": {},
     "output_type": "execute_result"
    }
   ],
   "source": [
    "train_path = '/home/ubuntu-pc/Enrico_boss/Similarity-project/wav/train_wav'\n",
    "\n",
    "\n",
    "# Transformation:\n",
    "# 11025 -> 0.5s\n",
    "# 2205  -> 0.1s\n",
    "\n",
    "def get_train_data(train_path):\n",
    "    all_y = []\n",
    "    for i in os.listdir(train_path):\n",
    "        path = os.path.join(train_path, i)\n",
    "\n",
    "        # transformed the .wav file train by PCA\n",
    "        x, sample_rate = librosa.load(path)\n",
    "        y = PCA_transform(x, sample_rate)\n",
    "        all_y.append(y.tolist()) # insert all PCA extraction in to a list (y)\n",
    "    all_y = np.array(all_y)\n",
    "\n",
    "    print('-'*40 + f'\\nNumber of tones: {all_y.shape[0]}')\n",
    "    print(f'Length of extraction of each tone: {all_y.shape[1]}\\n'+'-'*40)\n",
    "    return all_y\n",
    "\n",
    "cutting_time = 0.1 # cutting time\n",
    "cutting_length = (constrain_time/0.5)*11025 # cutting length\n",
    "\n",
    "def get_test_data(test_path):\n",
    "    x, sample_rate = librosa.load(path)\n",
    "\n",
    "    batch_num = int(x.shape[0]//cutting_length) # number of segment\n",
    "    all_y = []\n",
    "    for i in range(batch_num):\n",
    "        x_cut = x[i*cutting_length : (i+1)*cutting_length]\n",
    "        y = PCA_transform(x, sample_rate)\n",
    "        all_y.append(y)\n",
    "return all_y\n",
    "\n"
   ]
  },
  {
   "cell_type": "code",
   "execution_count": 52,
   "metadata": {},
   "outputs": [
    {
     "name": "stdout",
     "output_type": "stream",
     "text": [
      "(99225,) 22050\n",
      "(11025,) 22050\n"
     ]
    }
   ],
   "source": [
    "x1, sample_rate1 = librosa.load('/home/ubuntu-pc/Enrico_boss/Similarity-project/wav/input_wav/440hz_500hz_540hz.wav')\n",
    "x2, sample_rate2 = librosa.load('/home/ubuntu-pc/Enrico_boss/Similarity-project/wav/input_wav/silence_0_5s.wav')\n",
    "print(x1.shape, sample_rate1)\n",
    "print(x2.shape, sample_rate2)"
   ]
  },
  {
   "cell_type": "code",
   "execution_count": 53,
   "metadata": {},
   "outputs": [
    {
     "data": {
      "text/plain": [
       "2205.0"
      ]
     },
     "execution_count": 53,
     "metadata": {},
     "output_type": "execute_result"
    }
   ],
   "source": [
    "11025/5"
   ]
  },
  {
   "cell_type": "code",
   "execution_count": null,
   "metadata": {},
   "outputs": [],
   "source": []
  }
 ],
 "metadata": {
  "kernelspec": {
   "display_name": "Python 3.7.6 ('base')",
   "language": "python",
   "name": "python3"
  },
  "language_info": {
   "codemirror_mode": {
    "name": "ipython",
    "version": 3
   },
   "file_extension": ".py",
   "mimetype": "text/x-python",
   "name": "python",
   "nbconvert_exporter": "python",
   "pygments_lexer": "ipython3",
   "version": "3.7.6"
  },
  "orig_nbformat": 4,
  "vscode": {
   "interpreter": {
    "hash": "9e719c6414b9145a045007f0921a6b5f2e3e5b5a6403da857ad00a37a5e96624"
   }
  }
 },
 "nbformat": 4,
 "nbformat_minor": 2
}
